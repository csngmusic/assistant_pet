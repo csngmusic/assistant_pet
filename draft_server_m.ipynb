{
 "cells": [
  {
   "cell_type": "code",
   "execution_count": null,
   "metadata": {},
   "outputs": [],
   "source": [
    "from fastapi import FastAPI \n",
    "from pydantic import BaseModel\n",
    "\n",
    "# Инициализация FastAPI\n",
    "app = FastAPI()\n"
   ]
  },
  {
   "cell_type": "code",
   "execution_count": 4,
   "metadata": {},
   "outputs": [],
   "source": [
    "# Модель запроса\n",
    "class QueryModel(BaseModel):\n",
    "    query: str\n"
   ]
  },
  {
   "cell_type": "code",
   "execution_count": 5,
   "metadata": {},
   "outputs": [],
   "source": [
    "# API для обработки запросов студентов\n",
    "@app.post(\"/search/\")\n",
    "async def search_question(query: QueryModel):\n",
    "    return {\"answer\": f\"Вы спросили: {query.question}\"}\n",
    "\n",
    "@app.get(\"/\")\n",
    "async def home():\n",
    "    return {\"message\": \"Добро пожаловать на главную страницу!\"}"
   ]
  }
 ],
 "metadata": {
  "kernelspec": {
   "display_name": ".venv",
   "language": "python",
   "name": "python3"
  },
  "language_info": {
   "codemirror_mode": {
    "name": "ipython",
    "version": 3
   },
   "file_extension": ".py",
   "mimetype": "text/x-python",
   "name": "python",
   "nbconvert_exporter": "python",
   "pygments_lexer": "ipython3",
   "version": "3.12.6"
  }
 },
 "nbformat": 4,
 "nbformat_minor": 2
}
